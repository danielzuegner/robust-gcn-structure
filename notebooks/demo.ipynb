{
 "cells": [
  {
   "cell_type": "code",
   "execution_count": 8,
   "metadata": {},
   "outputs": [],
   "source": [
    "from robust_gcn_structure.certification import certify\n",
    "from robust_gcn_structure.utils import load_npz\n",
    "from matplotlib import pyplot as plt\n",
    "import torch"
   ]
  },
  {
   "cell_type": "code",
   "execution_count": 2,
   "metadata": {},
   "outputs": [],
   "source": [
    "dataset = \"citeseer\"\n",
    "robust_gcn = True  # Whether to load weights for GCN trained with the approach by [Zügner and Günnemann 2019\n",
    "\n",
    "local_budget = 3\n",
    "global_budget = 5"
   ]
  },
  {
   "cell_type": "code",
   "execution_count": 3,
   "metadata": {},
   "outputs": [],
   "source": [
    "target_node = 3311\n",
    "eval_class = 0"
   ]
  },
  {
   "cell_type": "code",
   "execution_count": 4,
   "metadata": {},
   "outputs": [],
   "source": [
    "solver = \"ECOS\"\n",
    "max_iters = 250\n",
    "tolerance = 1e-2\n",
    "kwargs = {\n",
    "    'tolerance': tolerance,\n",
    "    'max_iter': max_iters\n",
    "}"
   ]
  },
  {
   "cell_type": "code",
   "execution_count": 5,
   "metadata": {},
   "outputs": [
    {
     "data": {
      "application/vnd.jupyter.widget-view+json": {
       "model_id": "3f24e52eb0c84f0e95c02630f53e074b",
       "version_major": 2,
       "version_minor": 0
      },
      "text/plain": [
       "HBox(children=(FloatProgress(value=0.0, max=250.0), HTML(value='')))"
      ]
     },
     "metadata": {},
     "output_type": "display_data"
    },
    {
     "name": "stdout",
     "output_type": "stream",
     "text": [
      "\n"
     ]
    }
   ],
   "source": [
    "A, X, z = load_npz(f'../datasets/{dataset}.npz')\n",
    "A = A + A.T\n",
    "A[A > 1] = 1\n",
    "A.setdiag(0)\n",
    "\n",
    "X = (X>0).astype(\"float32\")\n",
    "z = z.astype(\"int64\")\n",
    "N, D = X.shape\n",
    "\n",
    "weight_path = f\"../pretrained_weights/{dataset}\"\n",
    "if robust_gcn:\n",
    "    weight_path = f\"{weight_path}_robust_gcn.pkl\"\n",
    "else:\n",
    "    weight_path = f\"{weight_path}_gcn.pkl\"\n",
    "\n",
    "state_dict = torch.load(weight_path, map_location=\"cpu\")\n",
    "\n",
    "weights = [v for k,v in state_dict.items() if \"weight\" in k and \"conv\" in k]\n",
    "biases = [v for k,v in state_dict.items() if \"bias\" in k and \"conv\" in k]\n",
    "\n",
    "W1, W2 = [w.cpu().detach().numpy() for w in weights]\n",
    "b1, b2 = [b.cpu().detach().numpy() for b in biases]\n",
    "\n",
    "shapes = [x.shape[0] for x in biases]\n",
    "num_hidden = len(shapes) - 1\n",
    "if num_hidden > 1:\n",
    "    raise NotImplementedError(\"Only one hidden layer is supported.\")\n",
    "\n",
    "weight_list = [W1, b1, W2, b2]\n",
    "info_dict = {}\n",
    "\n",
    "results = certify(target_node, A, X, weight_list, z,\n",
    "                  local_changes=local_budget,\n",
    "                  global_changes=global_budget,\n",
    "                  solver=solver, eval_class=eval_class,\n",
    "                  use_predicted_class=True,\n",
    "                  **kwargs)\n"
   ]
  },
  {
   "cell_type": "code",
   "execution_count": 18,
   "metadata": {},
   "outputs": [
    {
     "name": "stdout",
     "output_type": "stream",
     "text": [
      "Robustness for node 3311 and class 0 successfully certified.\n"
     ]
    }
   ],
   "source": [
    "if results['robust'] == True:\n",
    "    print(f\"Robustness for node {target_node} and class {eval_class} successfully certified.\")\n",
    "else:\n",
    "    print(f\"Robustness for node {target_node} and class {eval_class} could not be certified.\")"
   ]
  },
  {
   "cell_type": "code",
   "execution_count": 17,
   "metadata": {},
   "outputs": [
    {
     "data": {
      "image/png": "[encoded data removed]",
      "text/plain": [
       "<Figure size 432x288 with 1 Axes>"
      ]
     },
     "metadata": {
      "needs_background": "light"
     },
     "output_type": "display_data"
    }
   ],
   "source": [
    "plt.plot(results['best_lowers'], label=\"lower bound\")\n",
    "plt.plot(results['best_uppers'], label=\"upper bound\")\n",
    "plt.plot((0,len(results['best_uppers'])-1), (0,0), color=\"black\", linestyle=\"--\")\n",
    "plt.legend()\n",
    "plt.show()"
   ]
  }
 ],
 "metadata": {
  "kernelspec": {
   "display_name": "Python (torch)",
   "language": "python",
   "name": "torch"
  },
  "language_info": {
   "codemirror_mode": {
    "name": "ipython",
    "version": 3
   },
   "file_extension": ".py",
   "mimetype": "text/x-python",
   "name": "python",
   "nbconvert_exporter": "python",
   "pygments_lexer": "ipython3",
   "version": "3.8.1"
  }
 },
 "nbformat": 4,
 "nbformat_minor": 4
}
